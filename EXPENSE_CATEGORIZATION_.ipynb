{
  "cells": [
    {
      "cell_type": "markdown",
      "metadata": {
        "id": "VnE8gqOxFxdm"
      },
      "source": [
        "## Importing Libraries for Data Manipulation and Visualization"
      ]
    },
    {
      "cell_type": "markdown",
      "source": [],
      "metadata": {
        "id": "-JkJMLuuW_DH"
      }
    },
    {
      "cell_type": "code",
      "source": [
        "import pandas as pd\n",
        "import random\n",
        "\n",
        "# Possible transaction data i could think of\n",
        "transaction_data = [\n",
        "    {\"description\": \"Supermarket\", \"category\": \"Groceries\"},\n",
        "    {\"description\": \"Fast Food\", \"category\": \"Dining Out\"},\n",
        "    {\"description\": \"Water Bill\", \"category\": \"Utilities\"},\n",
        "    {\"description\": \"Cafe\", \"category\": \"Dining Out\"},\n",
        "    {\"description\": \"Petrol Station\", \"category\": \"Transportation\"},\n",
        "    {\"description\": \"Bookstore\", \"category\": \"Shopping\"},\n",
        "    {\"description\": \"Pharmacy\", \"category\": \"Health & Wellness\"},\n",
        "    {\"description\": \"Movie Tickets\", \"category\": \"Entertainment\"},\n",
        "    {\"description\": \"Flight Tickets\", \"category\": \"Travel\"},\n",
        "    {\"description\": \"Textbook Purchase\", \"category\": \"Education\"},\n",
        "    {\"description\": \"Bank Fee\", \"category\": \"Financial Services\"},\n",
        "    {\"description\": \"Gardening Supplies\", \"category\": \"Home & Garden\"},\n",
        "    {\"description\": \"Charity Donation\", \"category\": \"Donations & Charity\"},\n",
        "    {\"description\": \"Manicure\", \"category\": \"Personal Care\"},{\"description\": \"Haircut\", \"category\": \"Personal Care\"},\n",
        "    {\"description\": \"Drugs\", \"category\": \"Health & Wellness\"},\n",
        "    {\"description\": \"Golf Equipment\", \"category\": \"Hobbies & Leisure\"},\n",
        "    {\"description\": \"Car Repair\", \"category\": \"Automotive\"},\n",
        "    {\"description\": \"Home Insurance\", \"category\": \"Insurance\"},\n",
        "    {\"description\": \"Property Tax\", \"category\": \"Taxes\"},\n",
        "    {\"description\": \"Diapers\", \"category\": \"Baby & Childcare\"},\n",
        "    {\"description\": \"Birthday Gift\", \"category\": \"Gifts & Special Occasions\"},\n",
        "    {\"description\": \"Jewelry Purchase\", \"category\": \"Jewelry & Accessories\"},\n",
        "    {\"description\": \"Furniture\", \"category\": \"Furniture\"},\n",
        "    {\"description\": \"Internet Bill\", \"category\": \"Subscription\"},\n",
        "    {\"description\": \"Plumbing Service\", \"category\": \"Home Services\"},\n",
        "    {\"description\": \"Magazine Subscription\", \"category\": \"Subscriptions\"},\n",
        "    {\"description\": \"Beach Vacation\", \"category\": \"Vacation & Travel\"},\n",
        "    {\"description\": \"Spa Treatment\", \"category\": \"Beauty & Grooming\"},\n",
        "    {\"description\": \"Gym Membership\", \"category\": \"Sports & Fitness\"},\n",
        "    {\"description\": \"Kitchen Renovation\", \"category\": \"DIY & Renovations\"},\n",
        "    {\"description\": \"Office Supplies\", \"category\": \"Office & Work Supplies\"},\n",
        "    # we can add more transactions here\n",
        "]\n",
        "\n",
        "# Increasing transaction data to reach 5000 rows\n",
        "extended_transaction_data = transaction_data * (5000 // len(transaction_data))\n",
        "\n",
        "# Converting to Dataframe\n",
        "df = pd.DataFrame(extended_transaction_data)\n",
        "\n",
        "# Csv File\n",
        "df.to_csv(\"transaction_data_extended.csv\", index=False)\n"
      ],
      "metadata": {
        "id": "ZyA4rhyX8OZF"
      },
      "execution_count": null,
      "outputs": []
    },
    {
      "cell_type": "code",
      "source": [
        "df.columns = df.columns.str.replace('description', 'Description')\n",
        "df.columns = df.columns.str.replace('category', 'Category')"
      ],
      "metadata": {
        "id": "iQgsd4hz9FR4"
      },
      "execution_count": null,
      "outputs": []
    },
    {
      "cell_type": "code",
      "source": [
        "df.head()"
      ],
      "metadata": {
        "colab": {
          "base_uri": "https://localhost:8080/",
          "height": 206
        },
        "id": "i1Rjbtxv8vaL",
        "outputId": "6326cb45-da28-4a30-ede0-a049fd98f1da"
      },
      "execution_count": null,
      "outputs": [
        {
          "output_type": "execute_result",
          "data": {
            "text/plain": [
              "      Description        Category\n",
              "0     Supermarket       Groceries\n",
              "1       Fast Food      Dining Out\n",
              "2      Water Bill       Utilities\n",
              "3            Cafe      Dining Out\n",
              "4  Petrol Station  Transportation"
            ],
            "text/html": [
              "\n",
              "  <div id=\"df-5b4511e6-251e-4647-804e-93de50cbc311\" class=\"colab-df-container\">\n",
              "    <div>\n",
              "<style scoped>\n",
              "    .dataframe tbody tr th:only-of-type {\n",
              "        vertical-align: middle;\n",
              "    }\n",
              "\n",
              "    .dataframe tbody tr th {\n",
              "        vertical-align: top;\n",
              "    }\n",
              "\n",
              "    .dataframe thead th {\n",
              "        text-align: right;\n",
              "    }\n",
              "</style>\n",
              "<table border=\"1\" class=\"dataframe\">\n",
              "  <thead>\n",
              "    <tr style=\"text-align: right;\">\n",
              "      <th></th>\n",
              "      <th>Description</th>\n",
              "      <th>Category</th>\n",
              "    </tr>\n",
              "  </thead>\n",
              "  <tbody>\n",
              "    <tr>\n",
              "      <th>0</th>\n",
              "      <td>Supermarket</td>\n",
              "      <td>Groceries</td>\n",
              "    </tr>\n",
              "    <tr>\n",
              "      <th>1</th>\n",
              "      <td>Fast Food</td>\n",
              "      <td>Dining Out</td>\n",
              "    </tr>\n",
              "    <tr>\n",
              "      <th>2</th>\n",
              "      <td>Water Bill</td>\n",
              "      <td>Utilities</td>\n",
              "    </tr>\n",
              "    <tr>\n",
              "      <th>3</th>\n",
              "      <td>Cafe</td>\n",
              "      <td>Dining Out</td>\n",
              "    </tr>\n",
              "    <tr>\n",
              "      <th>4</th>\n",
              "      <td>Petrol Station</td>\n",
              "      <td>Transportation</td>\n",
              "    </tr>\n",
              "  </tbody>\n",
              "</table>\n",
              "</div>\n",
              "    <div class=\"colab-df-buttons\">\n",
              "\n",
              "  <div class=\"colab-df-container\">\n",
              "    <button class=\"colab-df-convert\" onclick=\"convertToInteractive('df-5b4511e6-251e-4647-804e-93de50cbc311')\"\n",
              "            title=\"Convert this dataframe to an interactive table.\"\n",
              "            style=\"display:none;\">\n",
              "\n",
              "  <svg xmlns=\"http://www.w3.org/2000/svg\" height=\"24px\" viewBox=\"0 -960 960 960\">\n",
              "    <path d=\"M120-120v-720h720v720H120Zm60-500h600v-160H180v160Zm220 220h160v-160H400v160Zm0 220h160v-160H400v160ZM180-400h160v-160H180v160Zm440 0h160v-160H620v160ZM180-180h160v-160H180v160Zm440 0h160v-160H620v160Z\"/>\n",
              "  </svg>\n",
              "    </button>\n",
              "\n",
              "  <style>\n",
              "    .colab-df-container {\n",
              "      display:flex;\n",
              "      gap: 12px;\n",
              "    }\n",
              "\n",
              "    .colab-df-convert {\n",
              "      background-color: #E8F0FE;\n",
              "      border: none;\n",
              "      border-radius: 50%;\n",
              "      cursor: pointer;\n",
              "      display: none;\n",
              "      fill: #1967D2;\n",
              "      height: 32px;\n",
              "      padding: 0 0 0 0;\n",
              "      width: 32px;\n",
              "    }\n",
              "\n",
              "    .colab-df-convert:hover {\n",
              "      background-color: #E2EBFA;\n",
              "      box-shadow: 0px 1px 2px rgba(60, 64, 67, 0.3), 0px 1px 3px 1px rgba(60, 64, 67, 0.15);\n",
              "      fill: #174EA6;\n",
              "    }\n",
              "\n",
              "    .colab-df-buttons div {\n",
              "      margin-bottom: 4px;\n",
              "    }\n",
              "\n",
              "    [theme=dark] .colab-df-convert {\n",
              "      background-color: #3B4455;\n",
              "      fill: #D2E3FC;\n",
              "    }\n",
              "\n",
              "    [theme=dark] .colab-df-convert:hover {\n",
              "      background-color: #434B5C;\n",
              "      box-shadow: 0px 1px 3px 1px rgba(0, 0, 0, 0.15);\n",
              "      filter: drop-shadow(0px 1px 2px rgba(0, 0, 0, 0.3));\n",
              "      fill: #FFFFFF;\n",
              "    }\n",
              "  </style>\n",
              "\n",
              "    <script>\n",
              "      const buttonEl =\n",
              "        document.querySelector('#df-5b4511e6-251e-4647-804e-93de50cbc311 button.colab-df-convert');\n",
              "      buttonEl.style.display =\n",
              "        google.colab.kernel.accessAllowed ? 'block' : 'none';\n",
              "\n",
              "      async function convertToInteractive(key) {\n",
              "        const element = document.querySelector('#df-5b4511e6-251e-4647-804e-93de50cbc311');\n",
              "        const dataTable =\n",
              "          await google.colab.kernel.invokeFunction('convertToInteractive',\n",
              "                                                    [key], {});\n",
              "        if (!dataTable) return;\n",
              "\n",
              "        const docLinkHtml = 'Like what you see? Visit the ' +\n",
              "          '<a target=\"_blank\" href=https://colab.research.google.com/notebooks/data_table.ipynb>data table notebook</a>'\n",
              "          + ' to learn more about interactive tables.';\n",
              "        element.innerHTML = '';\n",
              "        dataTable['output_type'] = 'display_data';\n",
              "        await google.colab.output.renderOutput(dataTable, element);\n",
              "        const docLink = document.createElement('div');\n",
              "        docLink.innerHTML = docLinkHtml;\n",
              "        element.appendChild(docLink);\n",
              "      }\n",
              "    </script>\n",
              "  </div>\n",
              "\n",
              "\n",
              "<div id=\"df-6e6a722c-136d-4fd5-ba16-fd40c9d8b03d\">\n",
              "  <button class=\"colab-df-quickchart\" onclick=\"quickchart('df-6e6a722c-136d-4fd5-ba16-fd40c9d8b03d')\"\n",
              "            title=\"Suggest charts.\"\n",
              "            style=\"display:none;\">\n",
              "\n",
              "<svg xmlns=\"http://www.w3.org/2000/svg\" height=\"24px\"viewBox=\"0 0 24 24\"\n",
              "     width=\"24px\">\n",
              "    <g>\n",
              "        <path d=\"M19 3H5c-1.1 0-2 .9-2 2v14c0 1.1.9 2 2 2h14c1.1 0 2-.9 2-2V5c0-1.1-.9-2-2-2zM9 17H7v-7h2v7zm4 0h-2V7h2v10zm4 0h-2v-4h2v4z\"/>\n",
              "    </g>\n",
              "</svg>\n",
              "  </button>\n",
              "\n",
              "<style>\n",
              "  .colab-df-quickchart {\n",
              "      --bg-color: #E8F0FE;\n",
              "      --fill-color: #1967D2;\n",
              "      --hover-bg-color: #E2EBFA;\n",
              "      --hover-fill-color: #174EA6;\n",
              "      --disabled-fill-color: #AAA;\n",
              "      --disabled-bg-color: #DDD;\n",
              "  }\n",
              "\n",
              "  [theme=dark] .colab-df-quickchart {\n",
              "      --bg-color: #3B4455;\n",
              "      --fill-color: #D2E3FC;\n",
              "      --hover-bg-color: #434B5C;\n",
              "      --hover-fill-color: #FFFFFF;\n",
              "      --disabled-bg-color: #3B4455;\n",
              "      --disabled-fill-color: #666;\n",
              "  }\n",
              "\n",
              "  .colab-df-quickchart {\n",
              "    background-color: var(--bg-color);\n",
              "    border: none;\n",
              "    border-radius: 50%;\n",
              "    cursor: pointer;\n",
              "    display: none;\n",
              "    fill: var(--fill-color);\n",
              "    height: 32px;\n",
              "    padding: 0;\n",
              "    width: 32px;\n",
              "  }\n",
              "\n",
              "  .colab-df-quickchart:hover {\n",
              "    background-color: var(--hover-bg-color);\n",
              "    box-shadow: 0 1px 2px rgba(60, 64, 67, 0.3), 0 1px 3px 1px rgba(60, 64, 67, 0.15);\n",
              "    fill: var(--button-hover-fill-color);\n",
              "  }\n",
              "\n",
              "  .colab-df-quickchart-complete:disabled,\n",
              "  .colab-df-quickchart-complete:disabled:hover {\n",
              "    background-color: var(--disabled-bg-color);\n",
              "    fill: var(--disabled-fill-color);\n",
              "    box-shadow: none;\n",
              "  }\n",
              "\n",
              "  .colab-df-spinner {\n",
              "    border: 2px solid var(--fill-color);\n",
              "    border-color: transparent;\n",
              "    border-bottom-color: var(--fill-color);\n",
              "    animation:\n",
              "      spin 1s steps(1) infinite;\n",
              "  }\n",
              "\n",
              "  @keyframes spin {\n",
              "    0% {\n",
              "      border-color: transparent;\n",
              "      border-bottom-color: var(--fill-color);\n",
              "      border-left-color: var(--fill-color);\n",
              "    }\n",
              "    20% {\n",
              "      border-color: transparent;\n",
              "      border-left-color: var(--fill-color);\n",
              "      border-top-color: var(--fill-color);\n",
              "    }\n",
              "    30% {\n",
              "      border-color: transparent;\n",
              "      border-left-color: var(--fill-color);\n",
              "      border-top-color: var(--fill-color);\n",
              "      border-right-color: var(--fill-color);\n",
              "    }\n",
              "    40% {\n",
              "      border-color: transparent;\n",
              "      border-right-color: var(--fill-color);\n",
              "      border-top-color: var(--fill-color);\n",
              "    }\n",
              "    60% {\n",
              "      border-color: transparent;\n",
              "      border-right-color: var(--fill-color);\n",
              "    }\n",
              "    80% {\n",
              "      border-color: transparent;\n",
              "      border-right-color: var(--fill-color);\n",
              "      border-bottom-color: var(--fill-color);\n",
              "    }\n",
              "    90% {\n",
              "      border-color: transparent;\n",
              "      border-bottom-color: var(--fill-color);\n",
              "    }\n",
              "  }\n",
              "</style>\n",
              "\n",
              "  <script>\n",
              "    async function quickchart(key) {\n",
              "      const quickchartButtonEl =\n",
              "        document.querySelector('#' + key + ' button');\n",
              "      quickchartButtonEl.disabled = true;  // To prevent multiple clicks.\n",
              "      quickchartButtonEl.classList.add('colab-df-spinner');\n",
              "      try {\n",
              "        const charts = await google.colab.kernel.invokeFunction(\n",
              "            'suggestCharts', [key], {});\n",
              "      } catch (error) {\n",
              "        console.error('Error during call to suggestCharts:', error);\n",
              "      }\n",
              "      quickchartButtonEl.classList.remove('colab-df-spinner');\n",
              "      quickchartButtonEl.classList.add('colab-df-quickchart-complete');\n",
              "    }\n",
              "    (() => {\n",
              "      let quickchartButtonEl =\n",
              "        document.querySelector('#df-6e6a722c-136d-4fd5-ba16-fd40c9d8b03d button');\n",
              "      quickchartButtonEl.style.display =\n",
              "        google.colab.kernel.accessAllowed ? 'block' : 'none';\n",
              "    })();\n",
              "  </script>\n",
              "</div>\n",
              "    </div>\n",
              "  </div>\n"
            ]
          },
          "metadata": {},
          "execution_count": 3
        }
      ]
    },
    {
      "cell_type": "code",
      "source": [
        "df.size"
      ],
      "metadata": {
        "colab": {
          "base_uri": "https://localhost:8080/"
        },
        "id": "5Z_4kODOwHqr",
        "outputId": "0ee71bbd-0ee4-4a52-c59f-3a5d9389ea79"
      },
      "execution_count": null,
      "outputs": [
        {
          "output_type": "execute_result",
          "data": {
            "text/plain": [
              "9984"
            ]
          },
          "metadata": {},
          "execution_count": 4
        }
      ]
    },
    {
      "cell_type": "code",
      "source": [
        "Anoda =df.copy()"
      ],
      "metadata": {
        "id": "cbh2N4r7-euP"
      },
      "execution_count": null,
      "outputs": []
    },
    {
      "cell_type": "code",
      "source": [
        "from sklearn.feature_extraction.text import TfidfVectorizer\n",
        "from sklearn.model_selection import train_test_split\n",
        "from sklearn.naive_bayes import MultinomialNB\n",
        "from sklearn.metrics import classification_report, confusion_matrix\n"
      ],
      "metadata": {
        "id": "RRyH3kqBxGvX"
      },
      "execution_count": null,
      "outputs": []
    },
    {
      "cell_type": "code",
      "source": [
        "\n",
        "\n",
        "# Split the dataset into training and testing sets\n",
        "X_train, X_test, y_train, y_test = train_test_split(df['Description'], df['Category'], test_size=0.2, random_state=42)"
      ],
      "metadata": {
        "id": "Npb6bi4B1gn2"
      },
      "execution_count": null,
      "outputs": []
    },
    {
      "cell_type": "code",
      "source": [
        "# Convert the text data into numerical vectors\n",
        "vectorizer = TfidfVectorizer()\n",
        "X_train_tfidf = vectorizer.fit_transform(X_train)\n",
        "X_test_tfidf = vectorizer.transform(X_test)\n"
      ],
      "metadata": {
        "id": "L-lufg_81_pP"
      },
      "execution_count": null,
      "outputs": []
    },
    {
      "cell_type": "code",
      "source": [
        "# Train the Multinomial Naive Bayes classifier\n",
        "clf = MultinomialNB().fit(X_train_tfidf, y_train)\n"
      ],
      "metadata": {
        "id": "ug-U3VqR2Gnb"
      },
      "execution_count": null,
      "outputs": []
    },
    {
      "cell_type": "code",
      "source": [
        "# Make predictions on the test set\n",
        "y_pred = clf.predict(X_test_tfidf)"
      ],
      "metadata": {
        "id": "nNr5ajIO2Oi7"
      },
      "execution_count": null,
      "outputs": []
    },
    {
      "cell_type": "code",
      "source": [
        "# Print the classification report\n",
        "print(classification_report(y_test, y_pred))"
      ],
      "metadata": {
        "colab": {
          "base_uri": "https://localhost:8080/"
        },
        "id": "BZfyrnwg2XW4",
        "outputId": "2b751a74-557b-4961-aea0-b2b4bc77d8ff"
      },
      "execution_count": null,
      "outputs": [
        {
          "output_type": "stream",
          "name": "stdout",
          "text": [
            "                           precision    recall  f1-score   support\n",
            "\n",
            "               Automotive       1.00      1.00      1.00        35\n",
            "         Baby & Childcare       1.00      1.00      1.00        26\n",
            "        Beauty & Grooming       1.00      1.00      1.00        28\n",
            "        DIY & Renovations       1.00      1.00      1.00        28\n",
            "               Dining Out       1.00      1.00      1.00        63\n",
            "      Donations & Charity       1.00      1.00      1.00        35\n",
            "                Education       1.00      1.00      1.00        44\n",
            "            Entertainment       1.00      1.00      1.00        28\n",
            "       Financial Services       1.00      1.00      1.00        31\n",
            "                Furniture       1.00      1.00      1.00        35\n",
            "Gifts & Special Occasions       1.00      1.00      1.00        29\n",
            "                Groceries       1.00      1.00      1.00        28\n",
            "        Health & Wellness       1.00      1.00      1.00        75\n",
            "        Hobbies & Leisure       1.00      1.00      1.00        33\n",
            "            Home & Garden       1.00      1.00      1.00        28\n",
            "            Home Services       1.00      1.00      1.00        27\n",
            "                Insurance       1.00      1.00      1.00        28\n",
            "    Jewelry & Accessories       1.00      1.00      1.00        24\n",
            "   Office & Work Supplies       1.00      1.00      1.00        33\n",
            "            Personal Care       1.00      1.00      1.00        66\n",
            "                 Shopping       1.00      1.00      1.00        26\n",
            "         Sports & Fitness       1.00      1.00      1.00        30\n",
            "             Subscription       1.00      1.00      1.00        27\n",
            "            Subscriptions       1.00      1.00      1.00        43\n",
            "                    Taxes       1.00      1.00      1.00        30\n",
            "           Transportation       1.00      1.00      1.00        31\n",
            "                   Travel       1.00      1.00      1.00        29\n",
            "                Utilities       1.00      1.00      1.00        26\n",
            "        Vacation & Travel       1.00      1.00      1.00        33\n",
            "\n",
            "                 accuracy                           1.00       999\n",
            "                macro avg       1.00      1.00      1.00       999\n",
            "             weighted avg       1.00      1.00      1.00       999\n",
            "\n"
          ]
        }
      ]
    },
    {
      "cell_type": "code",
      "source": [
        "import joblib\n",
        "joblib.dump(clf, 'Expense_Categorization_model.pkl')"
      ],
      "metadata": {
        "colab": {
          "base_uri": "https://localhost:8080/"
        },
        "id": "UBKjkvJJSPAz",
        "outputId": "379cfbe9-f911-42dc-fde1-89dc121f4c50"
      },
      "execution_count": null,
      "outputs": [
        {
          "output_type": "execute_result",
          "data": {
            "text/plain": [
              "['Expense_Categorization_model.pkl']"
            ]
          },
          "metadata": {},
          "execution_count": 13
        }
      ]
    },
    {
      "cell_type": "code",
      "source": [
        "# Test the model with a new expense description\n",
        "new_expense = \"Hair and Nails\"\n",
        "new_expense_tfidf = vectorizer.transform([new_expense])\n",
        "predicted_category = clf.predict(new_expense_tfidf)\n",
        "print(f\"Predicted category for '{new_expense}': {predicted_category[0]}\")"
      ],
      "metadata": {
        "colab": {
          "base_uri": "https://localhost:8080/"
        },
        "id": "mXBX3hcz2pOB",
        "outputId": "6cf0c140-72f6-4bd3-fe85-6742cc05de70"
      },
      "execution_count": null,
      "outputs": [
        {
          "output_type": "stream",
          "name": "stdout",
          "text": [
            "Predicted category for 'Hair and Nails': Personal Care\n"
          ]
        }
      ]
    }
  ],
  "metadata": {
    "colab": {
      "provenance": []
    },
    "kernelspec": {
      "display_name": "Python 3",
      "language": "python",
      "name": "python3"
    },
    "language_info": {
      "codemirror_mode": {
        "name": "ipython",
        "version": 3
      },
      "file_extension": ".py",
      "mimetype": "text/x-python",
      "name": "python",
      "nbconvert_exporter": "python",
      "pygments_lexer": "ipython3",
      "version": "3.7.3"
    }
  },
  "nbformat": 4,
  "nbformat_minor": 0
}